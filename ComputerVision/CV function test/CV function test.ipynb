{
 "cells": [
  {
   "cell_type": "code",
   "execution_count": 1,
   "metadata": {},
   "outputs": [],
   "source": [
    "import torch\n",
    "from ultralytics import YOLO\n",
    "import numpy as np\n",
    "from PIL import Image, ImageDraw\n",
    "import copy\n",
    "import cv2\n",
    "import os\n",
    "import shutil"
   ]
  },
  {
   "cell_type": "code",
   "execution_count": 2,
   "metadata": {},
   "outputs": [
    {
     "name": "stdout",
     "output_type": "stream",
     "text": [
      "\n",
      "image 1/1 e:\\硕士文件\\TUE\\tue-5ARIP10-Q3 Team project\\YOLO\\ultralytics-main-sataliite\\ultralytics-main\\CV function test\\Fields3.png: 640x640 11 Fields, 10.6ms\n",
      "Speed: 2.0ms preprocess, 10.6ms inference, 4.0ms postprocess per image at shape (1, 3, 640, 640)\n"
     ]
    }
   ],
   "source": [
    "my_model = YOLO('best.pt')\n",
    "results = list(my_model('Fields3.png', conf=0.25, save_json=True)) # If dont have the rewrite predict.py please deleate save_json=True\n",
    "result = results[0]\n",
    "\n",
    "# Convert PyTorch tensor to NumPy array\n",
    "mask_array = result.masks.data.cpu().numpy()\n",
    "\n",
    "# Create a blank image to store all mask information\n",
    "combined_mask = Image.new(\"RGB\", (mask_array.shape[2], mask_array.shape[1]), color=(255, 255, 255))\n",
    "\n",
    "# Iterate through each mask\n",
    "for idx, mask in enumerate(mask_array):\n",
    "    # Convert mask to PIL image\n",
    "    mask_image = Image.fromarray((mask * 255).astype(np.uint8), mode=\"L\")\n",
    "    \n",
    "    # Assign a color to each mask (for simplicity, random colors are used here)\n",
    "    color = tuple([int(c) for c in np.random.randint(0, 256, size=3)])\n",
    "    \n",
    "    # Draw the mask on the combined image using the mask's pixel values\n",
    "    draw = ImageDraw.Draw(combined_mask)\n",
    "    draw.bitmap((0, 0), mask_image, fill=color)\n",
    "\n",
    "# Display the combined mask image\n",
    "os.makedirs(\"test\", exist_ok=True)\n",
    "combined_mask.save(\"test/test1.png\")\n",
    "combined_mask.show()"
   ]
  },
  {
   "cell_type": "code",
   "execution_count": 4,
   "metadata": {},
   "outputs": [
    {
     "name": "stdout",
     "output_type": "stream",
     "text": [
      "640 640\n"
     ]
    }
   ],
   "source": [
    "# Path: Directory containing segmentation masks\n",
    "# Using relative path\n",
    "path = \"test\"\n",
    "files = os.listdir(path)\n",
    "\n",
    "# Iterate through each file in the directory\n",
    "for file in files:\n",
    "    name = file.split('.')[0]\n",
    "    file_path = os.path.join(path, name+'.png')\n",
    "    img = cv2.imread(file_path)\n",
    "    H, W = img.shape[0:2]  # Get the height and width of the image\n",
    "    print(H, W)\n",
    "\n",
    "    # Convert the image to grayscale\n",
    "    gray_img = cv2.cvtColor(img, cv2.COLOR_BGR2GRAY)\n",
    "    # Apply Otsu's thresholding to get a binary image\n",
    "    ret, bin_img = cv2.threshold(gray_img, 0, 255, cv2.THRESH_BINARY+cv2.THRESH_OTSU)\n",
    "    # Find contours in the binary image\n",
    "    cnt, hit = cv2.findContours(bin_img, cv2.RETR_TREE, cv2.CHAIN_APPROX_TC89_KCOS)\n",
    "\n",
    "    # Open a text file to write the contour coordinates\n",
    "    # Using relative path\n",
    "    f = open(\"test/{}.json\".format(file.split(\".\")[0]), \"a+\")\n",
    "    f.write(\"{\\n\")\n",
    "    f.write('  \"type\": \"FeatureCollection\",\\n')\n",
    "    f.write('  \"features\": [\\n')\n",
    "\n",
    "    for index, j in enumerate(cnt):\n",
    "        result = []\n",
    "        for i in j:\n",
    "            temp = list(i[0])\n",
    "            temp[0] /= W  # Normalize x-coordinate\n",
    "            temp[1] /= H  # Normalize y-coordinate\n",
    "            result.append(temp)\n",
    "\n",
    "        # If the contour is not empty, save it as a closed polygon\n",
    "        if result:\n",
    "            result.append(result[0])  # Add the starting point to close the polygon\n",
    "\n",
    "            # Write the contour coordinates into the JSON file\n",
    "            f.write('    {\\n')\n",
    "            f.write('      \"type\": \"Feature\",\\n')\n",
    "            f.write('      \"properties\": {\\n')\n",
    "            f.write('        \"Name\": \"contour{}\"\\n'.format(index))\n",
    "            f.write('      },\\n')\n",
    "            f.write('      \"geometry\": {\\n')\n",
    "            f.write('        \"type\": \"Polygon\",\\n')\n",
    "            f.write('        \"coordinates\": [\\n')\n",
    "            f.write('          [\\n')\n",
    "\n",
    "            for idx, line in enumerate(result):\n",
    "                f.write('            [\\n')\n",
    "                f.write('              {},\\n'.format(line[0]))\n",
    "                f.write('              {}\\n'.format(line[1]))\n",
    "                f.write('            ]{}\\n'.format(',' if idx < len(result) - 1 else ''))\n",
    "\n",
    "            f.write('          ]\\n')\n",
    "            f.write('        ]\\n')\n",
    "            f.write('      }\\n')\n",
    "            if index < len(cnt) - 1:\n",
    "                f.write('    },\\n')  \n",
    "            else:\n",
    "                f.write('    }\\n')  \n",
    "\n",
    "    f.write('  ]\\n')\n",
    "    f.write('}\\n')\n",
    "    f.close()"
   ]
  }
 ],
 "metadata": {
  "kernelspec": {
   "display_name": "yolov8",
   "language": "python",
   "name": "python3"
  },
  "language_info": {
   "codemirror_mode": {
    "name": "ipython",
    "version": 3
   },
   "file_extension": ".py",
   "mimetype": "text/x-python",
   "name": "python",
   "nbconvert_exporter": "python",
   "pygments_lexer": "ipython3",
   "version": "3.8.18"
  }
 },
 "nbformat": 4,
 "nbformat_minor": 2
}
