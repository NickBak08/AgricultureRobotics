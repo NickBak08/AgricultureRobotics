{
 "cells": [
  {
   "cell_type": "markdown",
   "metadata": {},
   "source": [
    "# This code only can be used once on the same folder!!!!!!"
   ]
  },
  {
   "cell_type": "code",
   "execution_count": 3,
   "metadata": {},
   "outputs": [
    {
     "name": "stdout",
     "output_type": "stream",
     "text": [
      "Finished! Dont run the code again in the same folder!\n"
     ]
    }
   ],
   "source": [
    "# This code only can be used once on the same folder!!!!!!\n",
    "import os\n",
    "import cv2\n",
    "\n",
    "def process_images(input_folder, output_folder):\n",
    "    # Iterate through all PNG images in the input folder\n",
    "    for filename in os.listdir(input_folder):\n",
    "        if filename.endswith('.png'):\n",
    "            # Read the image\n",
    "            img_path = os.path.join(input_folder, filename)\n",
    "            img = cv2.imread(img_path)\n",
    "            \n",
    "            # Image processing\n",
    "            img_n1 = cv2.flip(img, -1)      # Flip both horizontally and vertically\n",
    "            img_0 = cv2.flip(img, 0)        # Flip vertically\n",
    "            img_1 = cv2.flip(img, 1)        # Flip horizontally\n",
    "            img_tsp = cv2.transpose(img)    # Transpose (swap rows and columns)\n",
    "            img_90 = cv2.flip(cv2.transpose(img), 1)  # Rotate 90 degrees clockwise\n",
    "            img_180 = cv2.flip(img, -1)     # Rotate 180 degrees clockwise\n",
    "            img_270 = cv2.flip(cv2.transpose(img), 0)  # Rotate 270 degrees clockwise\n",
    "            \n",
    "            # Save the processed images\n",
    "            output_path = os.path.join(output_folder, filename.split('.')[0])\n",
    "            cv2.imwrite(output_path + '_n1.png', img_n1)\n",
    "            cv2.imwrite(output_path + '_0.png', img_0)\n",
    "            cv2.imwrite(output_path + '_1.png', img_1)\n",
    "            cv2.imwrite(output_path + '_tsp.png', img_tsp)\n",
    "            cv2.imwrite(output_path + '_90.png', img_90)\n",
    "            cv2.imwrite(output_path + '_180.png', img_180)\n",
    "            cv2.imwrite(output_path + '_270.png', img_270)\n",
    "\n",
    "# Define input and output folders\n",
    "# Use relative path\n",
    "input_folder = \"project_agritue_dataset_2024_03_22_15_01_06_segmentation mask 1.1/SegmentationClass\"  # Input folder path\n",
    "output_folder = 'project_agritue_dataset_2024_03_22_15_01_06_segmentation mask 1.1/SegmentationClass'  # Output folder path\n",
    "\n",
    "# Execute the processing function\n",
    "process_images(input_folder, output_folder)\n",
    "print(\"Finished! Dont run the code again in the same folder!\")\n"
   ]
  },
  {
   "cell_type": "code",
   "execution_count": 4,
   "metadata": {},
   "outputs": [
    {
     "name": "stdout",
     "output_type": "stream",
     "text": [
      "Finished! Dont run the code again in the same folder!\n"
     ]
    }
   ],
   "source": [
    "# This code only can be used once on the same folder!!!!!!\n",
    "import os\n",
    "import cv2\n",
    "\n",
    "def process_images(input_folder, output_folder):\n",
    "    # Iterate through all PNG images in the input folder\n",
    "    for filename in os.listdir(input_folder):\n",
    "        if filename.endswith('.png'):\n",
    "            # Read the image\n",
    "            img_path = os.path.join(input_folder, filename)\n",
    "            img = cv2.imread(img_path)\n",
    "            \n",
    "            # Image processing\n",
    "            img_n1 = cv2.flip(img, -1)      # Flip both horizontally and vertically\n",
    "            img_0 = cv2.flip(img, 0)        # Flip vertically\n",
    "            img_1 = cv2.flip(img, 1)        # Flip horizontally\n",
    "            img_tsp = cv2.transpose(img)    # Transpose (swap rows and columns)\n",
    "            img_90 = cv2.flip(cv2.transpose(img), 1)  # Rotate 90 degrees clockwise\n",
    "            img_180 = cv2.flip(img, -1)     # Rotate 180 degrees clockwise\n",
    "            img_270 = cv2.flip(cv2.transpose(img), 0)  # Rotate 270 degrees clockwise\n",
    "            \n",
    "            # Save the processed images\n",
    "            output_path = os.path.join(output_folder, filename.split('.')[0])\n",
    "            cv2.imwrite(output_path + '_n1.png', img_n1)\n",
    "            cv2.imwrite(output_path + '_0.png', img_0)\n",
    "            cv2.imwrite(output_path + '_1.png', img_1)\n",
    "            cv2.imwrite(output_path + '_tsp.png', img_tsp)\n",
    "            cv2.imwrite(output_path + '_90.png', img_90)\n",
    "            cv2.imwrite(output_path + '_180.png', img_180)\n",
    "            cv2.imwrite(output_path + '_270.png', img_270)\n",
    "\n",
    "# Define input and output folders\n",
    "# Use relative path\n",
    "input_folder = \"project_agritue_dataset_2024_03_22_15_01_06_segmentation mask 1.1/JPEGImages\"  # Input folder path\n",
    "output_folder = 'project_agritue_dataset_2024_03_22_15_01_06_segmentation mask 1.1/JPEGImages'  # Output folder path\n",
    "\n",
    "# Execute the processing function\n",
    "process_images(input_folder, output_folder)\n",
    "print(\"Finished! Dont run the code again in the same folder!\")"
   ]
  }
 ],
 "metadata": {
  "kernelspec": {
   "display_name": "yolov8",
   "language": "python",
   "name": "python3"
  },
  "language_info": {
   "codemirror_mode": {
    "name": "ipython",
    "version": 3
   },
   "file_extension": ".py",
   "mimetype": "text/x-python",
   "name": "python",
   "nbconvert_exporter": "python",
   "pygments_lexer": "ipython3",
   "version": "3.8.18"
  }
 },
 "nbformat": 4,
 "nbformat_minor": 2
}
