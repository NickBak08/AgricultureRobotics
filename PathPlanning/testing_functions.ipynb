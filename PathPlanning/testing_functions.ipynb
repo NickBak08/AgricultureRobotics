{
 "cells": [
  {
   "cell_type": "markdown",
   "metadata": {},
   "source": [
    "This notebook is mainly for messing around with Geopandas objects and figuring out what the best way is to plan a path\n"
   ]
  },
  {
   "cell_type": "code",
   "execution_count": 2,
   "metadata": {},
   "outputs": [],
   "source": [
    "import json\n",
    "import matplotlib.pyplot as plt\n",
    "\n",
    "from shapely.geometry import Polygon\n",
    "from shapely.geometry import LineString\n",
    "import geopandas as gpd\n",
    "import numpy as np"
   ]
  },
  {
   "cell_type": "code",
   "execution_count": 3,
   "metadata": {},
   "outputs": [],
   "source": [
    "# This cell opens the json file that contains field geometry\n",
    "with open(\"./data/field_geometry/test_1.json\") as json_file:\n",
    "    json_data = json.load(json_file) # or geojson.load(json_file)"
   ]
  },
  {
   "cell_type": "code",
   "execution_count": 4,
   "metadata": {},
   "outputs": [],
   "source": [
    "# This cell parses the json data and obtains a list with the coordinates for each polygon like\n",
    "# [[polygon1_coords],[polygon2_coords],....]\n",
    "# where polygon1_coords looks something like this: [[x1,y1],[x2,y2],......]\n",
    "coordinates = []\n",
    "for i in range(len(json_data['features'])):\n",
    "    coordinates.append(json_data['features'][i]['geometry']['coordinates'])"
   ]
  },
  {
   "cell_type": "code",
   "execution_count": 5,
   "metadata": {},
   "outputs": [],
   "source": [
    "# Here we create a geoseries object from the polygons \n",
    "polygon1 = gpd.GeoSeries(Polygon(coordinates[1][0]))\n",
    "hole = gpd.GeoSeries(Polygon(coordinates[2][0]))\n",
    "# Creating a buffer with a specific size (in this case 1)\n",
    "obstacle_buffer = hole.buffer(1)\n",
    "polygon1_buffer = polygon1.buffer(-1)"
   ]
  },
  {
   "cell_type": "code",
   "execution_count": 6,
   "metadata": {},
   "outputs": [],
   "source": [
    "# Here we substract the hole from the field, the first line does this for the field and hole without headlands, the second line does it\n",
    "# for field and hole with headlands\n",
    "\n",
    "field = polygon1.symmetric_difference(hole)\n",
    "\n",
    "field_with_headlands = polygon1_buffer.symmetric_difference(obstacle_buffer)"
   ]
  },
  {
   "cell_type": "code",
   "execution_count": 7,
   "metadata": {},
   "outputs": [
    {
     "data": {
      "image/png": "[encoded data removed]",
      "text/plain": [
       "<Figure size 640x480 with 1 Axes>"
      ]
     },
     "metadata": {},
     "output_type": "display_data"
    }
   ],
   "source": [
    "# Plotting the field (green) and headland boundaries\n",
    "fig, ax = plt.subplots()\n",
    "field.plot(ax = ax, color = 'green')\n",
    "field_with_headlands.boundary.plot(ax = ax,color = 'red')\n",
    "plt.show()"
   ]
  },
  {
   "cell_type": "code",
   "execution_count": 8,
   "metadata": {},
   "outputs": [
    {
     "data": {
      "text/html": [
       "<div>\n",
       "<style scoped>\n",
       "    .dataframe tbody tr th:only-of-type {\n",
       "        vertical-align: middle;\n",
       "    }\n",
       "\n",
       "    .dataframe tbody tr th {\n",
       "        vertical-align: top;\n",
       "    }\n",
       "\n",
       "    .dataframe thead th {\n",
       "        text-align: right;\n",
       "    }\n",
       "</style>\n",
       "<table border=\"1\" class=\"dataframe\">\n",
       "  <thead>\n",
       "    <tr style=\"text-align: right;\">\n",
       "      <th></th>\n",
       "      <th>x</th>\n",
       "      <th>y</th>\n",
       "    </tr>\n",
       "  </thead>\n",
       "  <tbody>\n",
       "    <tr>\n",
       "      <th>0</th>\n",
       "      <td>0.0</td>\n",
       "      <td>0.0</td>\n",
       "    </tr>\n",
       "    <tr>\n",
       "      <th>0</th>\n",
       "      <td>0.0</td>\n",
       "      <td>100.0</td>\n",
       "    </tr>\n",
       "    <tr>\n",
       "      <th>0</th>\n",
       "      <td>100.0</td>\n",
       "      <td>100.0</td>\n",
       "    </tr>\n",
       "    <tr>\n",
       "      <th>0</th>\n",
       "      <td>100.0</td>\n",
       "      <td>0.0</td>\n",
       "    </tr>\n",
       "    <tr>\n",
       "      <th>0</th>\n",
       "      <td>0.0</td>\n",
       "      <td>0.0</td>\n",
       "    </tr>\n",
       "  </tbody>\n",
       "</table>\n",
       "</div>"
      ],
      "text/plain": [
       "       x      y\n",
       "0    0.0    0.0\n",
       "0    0.0  100.0\n",
       "0  100.0  100.0\n",
       "0  100.0    0.0\n",
       "0    0.0    0.0"
      ]
     },
     "execution_count": 8,
     "metadata": {},
     "output_type": "execute_result"
    }
   ],
   "source": [
    "# An easy way to obtain x and y coordinates for a polygon or polyline\n",
    "polygon1.get_coordinates()"
   ]
  },
  {
   "cell_type": "code",
   "execution_count": 113,
   "metadata": {},
   "outputs": [
    {
     "data": {
      "image/png": "[encoded data removed]",
      "text/plain": [
       "<Figure size 640x480 with 1 Axes>"
      ]
     },
     "metadata": {},
     "output_type": "display_data"
    }
   ],
   "source": [
    "# Creating straight lines as vectors and clipping them to the field boundaries\n",
    "vector = [[-10,110],[110,-10]]\n",
    "# Here we make another geoseries object from the vector\n",
    "swath = gpd.GeoSeries(LineString(vector))\n",
    "# and we clip the vector so that it only covers the field and does not cross over into the headlands\n",
    "swath_clipped = gpd.clip(swath,field_with_headlands)\n",
    "\n",
    "\n",
    "# Plotting the original swath (cyan) and the clipped one (magenta)\n",
    "\n",
    "fig, ax = plt.subplots()\n",
    "field.plot(ax = ax, color = 'green')\n",
    "field_with_headlands.boundary.plot(ax = ax,color = 'red')\n",
    "swath.plot(ax = ax,color = 'cyan', marker = '+')\n",
    "swath_clipped.plot(ax = ax, color = 'magenta')\n",
    "plt.show()"
   ]
  },
  {
   "cell_type": "code",
   "execution_count": 112,
   "metadata": {},
   "outputs": [
    {
     "data": {
      "image/png": "[encoded data removed]",
      "text/plain": [
       "<Figure size 640x480 with 1 Axes>"
      ]
     },
     "metadata": {},
     "output_type": "display_data"
    },
    {
     "name": "stdout",
     "output_type": "stream",
     "text": [
      "1484.0\n"
     ]
    }
   ],
   "source": [
    "\n",
    "# This cell combines the above cells and creates a bunch of parallel vectors with a fixed distance, clips them to the \n",
    "# boundaries of the field and then calculates the total length of the path\n",
    "\n",
    "vector = []\n",
    "for i in range(100):\n",
    "    vector.append([[-0+i*5,100],[0+i*5,0]])\n",
    "\n",
    "swaths = []\n",
    "swaths_clipped = []\n",
    "for i in range(len(vector)):\n",
    "    swaths.append(gpd.GeoSeries(LineString(vector[i])))\n",
    "    swaths_clipped.append(gpd.clip(swaths[i],field_with_headlands))\n",
    "\n",
    "fig, ax = plt.subplots()\n",
    "field.plot(ax = ax, color = 'green')\n",
    "field_with_headlands.boundary.plot(ax = ax,color = 'red')\n",
    "total_swath_length = 0\n",
    "for i in range(len(swaths_clipped)):\n",
    "    if not swaths_clipped[i].get_coordinates().empty: # This line is to make sure we don't calculate the length for vectors that are completely outside of the boundaries\n",
    "        swaths_clipped[i].plot(ax = ax)\n",
    "        total_swath_length+=swaths_clipped[i][0].length\n",
    "\n",
    "plt.show()\n",
    "print(total_swath_length)"
   ]
  }
 ],
 "metadata": {
  "kernelspec": {
   "display_name": "5ARIP10",
   "language": "python",
   "name": "python3"
  },
  "language_info": {
   "codemirror_mode": {
    "name": "ipython",
    "version": 3
   },
   "file_extension": ".py",
   "mimetype": "text/x-python",
   "name": "python",
   "nbconvert_exporter": "python",
   "pygments_lexer": "ipython3",
   "version": "3.12.2"
  }
 },
 "nbformat": 4,
 "nbformat_minor": 2
}
