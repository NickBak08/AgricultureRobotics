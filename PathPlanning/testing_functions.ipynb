{
 "cells": [
  {
   "cell_type": "markdown",
   "metadata": {},
   "source": [
    "This notebook is mainly for messing around with Geopandas objects and figuring out what the best way is to plan a path\\\n",
    "To run this code, you need to install shapely, geopandas matplotlib and numpy "
   ]
  },
  {
   "cell_type": "code",
   "execution_count": 1,
   "metadata": {},
   "outputs": [],
   "source": [
    "import json\n",
    "import matplotlib.pyplot as plt\n",
    "\n",
    "from shapely.geometry import Polygon\n",
    "from shapely.geometry import LineString\n",
    "import geopandas as gpd\n",
    "import numpy as np"
   ]
  },
  {
   "cell_type": "code",
   "execution_count": 2,
   "metadata": {},
   "outputs": [],
   "source": [
    "# This cell opens the json file that contains field geometry\n",
    "with open(\"./data/field_geometry/test_1.json\") as json_file:\n",
    "    json_data = json.load(json_file) # or geojson.load(json_file)"
   ]
  },
  {
   "cell_type": "code",
   "execution_count": 3,
   "metadata": {},
   "outputs": [],
   "source": [
    "# This cell parses the json data and obtains a list with the coordinates for each polygon like\n",
    "# [[polygon1_coords],[polygon2_coords],....]\n",
    "# where polygon1_coords looks something like this: [[x1,y1],[x2,y2],......]\n",
    "coordinates = []\n",
    "for i in range(len(json_data['features'])):\n",
    "    coordinates.append(json_data['features'][i]['geometry']['coordinates'])"
   ]
  },
  {
   "cell_type": "code",
   "execution_count": 4,
   "metadata": {},
   "outputs": [],
   "source": [
    "# Here we create a geoseries object from the polygons \n",
    "polygon1 = gpd.GeoSeries(Polygon(coordinates[1][0]))\n",
    "hole = gpd.GeoSeries(Polygon(coordinates[2][0]))\n",
    "# Creating a buffer with a specific size (in this case 1)\n",
    "obstacle_buffer = hole.buffer(1)\n",
    "polygon1_buffer = polygon1.buffer(-1)"
   ]
  },
  {
   "cell_type": "code",
   "execution_count": 5,
   "metadata": {},
   "outputs": [],
   "source": [
    "# Here we substract the hole from the field, the first line does this for the field and hole without headlands, the second line does it\n",
    "# for field and hole with headlands\n",
    "\n",
    "field = polygon1.symmetric_difference(hole)\n",
    "\n",
    "field_with_headlands = polygon1_buffer.symmetric_difference(obstacle_buffer)"
   ]
  },
  {
   "cell_type": "code",
   "execution_count": 6,
   "metadata": {},
   "outputs": [
    {
     "data": {
      "image/png": "[encoded data removed]",
      "text/plain": [
       "<Figure size 640x480 with 1 Axes>"
      ]
     },
     "metadata": {},
     "output_type": "display_data"
    }
   ],
   "source": [
    "# Plotting the field (green) and headland boundaries\n",
    "fig, ax = plt.subplots()\n",
    "field.plot(ax = ax, color = 'green')\n",
    "field_with_headlands.boundary.plot(ax = ax,color = 'red')\n",
    "plt.show()"
   ]
  },
  {
   "cell_type": "code",
   "execution_count": 7,
   "metadata": {},
   "outputs": [
    {
     "data": {
      "text/html": [
       "<div>\n",
       "<style scoped>\n",
       "    .dataframe tbody tr th:only-of-type {\n",
       "        vertical-align: middle;\n",
       "    }\n",
       "\n",
       "    .dataframe tbody tr th {\n",
       "        vertical-align: top;\n",
       "    }\n",
       "\n",
       "    .dataframe thead th {\n",
       "        text-align: right;\n",
       "    }\n",
       "</style>\n",
       "<table border=\"1\" class=\"dataframe\">\n",
       "  <thead>\n",
       "    <tr style=\"text-align: right;\">\n",
       "      <th></th>\n",
       "      <th>x</th>\n",
       "      <th>y</th>\n",
       "    </tr>\n",
       "  </thead>\n",
       "  <tbody>\n",
       "    <tr>\n",
       "      <th>0</th>\n",
       "      <td>0.0</td>\n",
       "      <td>0.0</td>\n",
       "    </tr>\n",
       "    <tr>\n",
       "      <th>0</th>\n",
       "      <td>0.0</td>\n",
       "      <td>100.0</td>\n",
       "    </tr>\n",
       "    <tr>\n",
       "      <th>0</th>\n",
       "      <td>100.0</td>\n",
       "      <td>100.0</td>\n",
       "    </tr>\n",
       "    <tr>\n",
       "      <th>0</th>\n",
       "      <td>100.0</td>\n",
       "      <td>0.0</td>\n",
       "    </tr>\n",
       "    <tr>\n",
       "      <th>0</th>\n",
       "      <td>0.0</td>\n",
       "      <td>0.0</td>\n",
       "    </tr>\n",
       "  </tbody>\n",
       "</table>\n",
       "</div>"
      ],
      "text/plain": [
       "       x      y\n",
       "0    0.0    0.0\n",
       "0    0.0  100.0\n",
       "0  100.0  100.0\n",
       "0  100.0    0.0\n",
       "0    0.0    0.0"
      ]
     },
     "execution_count": 7,
     "metadata": {},
     "output_type": "execute_result"
    }
   ],
   "source": [
    "# An easy way to obtain x and y coordinates for a polygon or polyline\n",
    "polygon1.get_coordinates()"
   ]
  },
  {
   "cell_type": "code",
   "execution_count": 8,
   "metadata": {},
   "outputs": [
    {
     "data": {
      "image/png": "[encoded data removed]",
      "text/plain": [
       "<Figure size 640x480 with 1 Axes>"
      ]
     },
     "metadata": {},
     "output_type": "display_data"
    }
   ],
   "source": [
    "# Creating straight lines as vectors and clipping them to the field boundaries\n",
    "vector = [[-10,110],[110,-10]]\n",
    "# Here we make another geoseries object from the vector\n",
    "swath = gpd.GeoSeries(LineString(vector))\n",
    "# and we clip the vector so that it only covers the field and does not cross over into the headlands\n",
    "swath_clipped = gpd.clip(swath,field_with_headlands)\n",
    "\n",
    "\n",
    "# Plotting the original swath (cyan) and the clipped one (magenta)\n",
    "\n",
    "fig, ax = plt.subplots()\n",
    "field.plot(ax = ax, color = 'green')\n",
    "field_with_headlands.boundary.plot(ax = ax,color = 'red')\n",
    "swath.plot(ax = ax,color = 'cyan', marker = '+')\n",
    "swath_clipped.plot(ax = ax, color = 'magenta')\n",
    "plt.show()"
   ]
  },
  {
   "cell_type": "code",
   "execution_count": 19,
   "metadata": {},
   "outputs": [
    {
     "data": {
      "image/png": "[encoded data removed]",
      "text/plain": [
       "<Figure size 640x480 with 1 Axes>"
      ]
     },
     "metadata": {},
     "output_type": "display_data"
    },
    {
     "name": "stdout",
     "output_type": "stream",
     "text": [
      "1484.0\n"
     ]
    }
   ],
   "source": [
    "\n",
    "# This cell combines the above cells and creates a bunch of parallel vectors with a fixed distance, clips them to the \n",
    "# boundaries of the field and then calculates the total length of the path\n",
    "\n",
    "vector = []\n",
    "for i in range(100):\n",
    "    vector.append([[0+i*5,100],[0+i*5,0]])\n",
    "\n",
    "swaths = []\n",
    "swaths_clipped = []\n",
    "for i in range(len(vector)):\n",
    "    swaths.append(gpd.GeoSeries(LineString(vector[i])))\n",
    "    swaths_clipped.append(gpd.clip(swaths[i],field_with_headlands))\n",
    "\n",
    "fig, ax = plt.subplots()\n",
    "field.plot(ax = ax, color = 'green')\n",
    "field_with_headlands.boundary.plot(ax = ax,color = 'red')\n",
    "total_swath_length = 0\n",
    "for i in range(len(swaths_clipped)):\n",
    "    if not swaths_clipped[i].get_coordinates().empty: # This line is to make sure we don't calculate the length for vectors that are completely outside of the boundaries\n",
    "        swaths_clipped[i].plot(ax = ax)\n",
    "        total_swath_length+=swaths_clipped[i][0].length\n",
    "\n",
    "plt.show()\n",
    "print(total_swath_length)"
   ]
  },
  {
   "cell_type": "code",
   "execution_count": 15,
   "metadata": {},
   "outputs": [
    {
     "name": "stdout",
     "output_type": "stream",
     "text": [
      "Original Vector: [1 0]\n",
      "Rotated Vector around Z-axis: [0.70710678 0.70710678]\n"
     ]
    }
   ],
   "source": [
    "# import numpy as np\n",
    "\n",
    "def rotate_vector_z(vector, theta_z):\n",
    "    # Convert angle to radians\n",
    "    theta_z = np.radians(theta_z)\n",
    "\n",
    "    # 2D Rotation matrix around the z-axis\n",
    "    R_z = np.array([[np.cos(theta_z), -np.sin(theta_z)],\n",
    "                    [np.sin(theta_z), np.cos(theta_z)]])\n",
    "\n",
    "    # Rotate the vector\n",
    "    rotated_vector = np.dot(R_z, vector)\n",
    "\n",
    "    return rotated_vector\n",
    "\n",
    "# Example usage\n",
    "vector = np.array([1, 0])  # Example vector along the x-axis\n",
    "theta_z = 45  # Rotation angle in degrees around z-axis\n",
    "\n",
    "rotated_vector = rotate_vector_z(vector, theta_z)\n",
    "print(\"Original Vector:\", vector)\n",
    "print(\"Rotated Vector around Z-axis:\",rotated_vector)"
   ]
  },
  {
   "cell_type": "code",
   "execution_count": 90,
   "metadata": {},
   "outputs": [
    {
     "name": "stdout",
     "output_type": "stream",
     "text": [
      "Theta: 0.000000, total_length: 0.000000\n",
      "Theta: 5.000000, total_length: 860.948812\n",
      "Theta: 10.000000, total_length: 831.740609\n",
      "Theta: 15.000000, total_length: 816.633977\n",
      "Theta: 20.000000, total_length: 813.056012\n",
      "Theta: 25.000000, total_length: 804.817470\n",
      "Theta: 30.000000, total_length: 800.732728\n",
      "Theta: 35.000000, total_length: 798.668438\n",
      "Theta: 40.000000, total_length: 797.552416\n",
      "Theta: 45.000000, total_length: 796.682440\n",
      "Theta: 50.000000, total_length: 795.625354\n",
      "Theta: 55.000000, total_length: 794.563742\n",
      "Theta: 60.000000, total_length: 794.564152\n",
      "Theta: 65.000000, total_length: 793.030607\n",
      "Theta: 70.000000, total_length: 797.975278\n",
      "Theta: 75.000000, total_length: 798.882329\n",
      "Theta: 80.000000, total_length: 794.944562\n",
      "Theta: 85.000000, total_length: 804.631815\n",
      "Theta: 90.000000, total_length: 672.090946\n"
     ]
    }
   ],
   "source": [
    "# Example usage\n",
    "vector = np.array([10000, 0])  # Example vector along the x-axis\n",
    "for theta_z in range(0,95,5):\n",
    "    # theta_z = 45  # Rotation angle in degrees around z-axis\n",
    "    d = 10\n",
    "    dx = d/(np.sin(np.radians(theta_z))+0.01)\n",
    "    rotated_vector = rotate_vector_z(vector, theta_z)\n",
    "    rotated_vector = [[0,0],list(rotated_vector)]\n",
    "    vector_list = []\n",
    "    for i in range(-10,10):\n",
    "        vector_list.append([[rotated_vector[0][0]+i*dx,rotated_vector[0][1]],[rotated_vector[1][0]+dx*i,rotated_vector[1][1]]])\n",
    "\n",
    "\n",
    "\n",
    "    swaths = []\n",
    "    swaths_clipped = []\n",
    "    for i in range(len(vector_list)):\n",
    "        swaths.append(gpd.GeoSeries(LineString(vector_list[i])))\n",
    "        swaths_clipped.append(gpd.clip(swaths[i],field_with_headlands))\n",
    "\n",
    "    # fig, ax = plt.subplots()\n",
    "    # field.plot(ax = ax, color = 'green')\n",
    "    # field_with_headlands.boundary.plot(ax = ax,color = 'red')\n",
    "    total_swath_length = 0\n",
    "    for i in range(len(swaths_clipped)):\n",
    "        if not swaths_clipped[i].get_coordinates().empty: # This line is to make sure we don't calculate the length for vectors that are completely outside of the boundaries\n",
    "            # swaths_clipped[i].plot(ax = ax)\n",
    "            total_swath_length+=swaths_clipped[i][0].length\n",
    "\n",
    "    # plt.show()\n",
    "    \n",
    "    print('Theta: {:6f}, total_length: {:6f}'.format(theta_z,total_swath_length))\n",
    "\n"
   ]
  },
  {
   "cell_type": "code",
   "execution_count": 91,
   "metadata": {},
   "outputs": [
    {
     "name": "stdout",
     "output_type": "stream",
     "text": [
      "Theta: 5.000000, total_length: 860.948812\n"
     ]
    },
    {
     "data": {
      "image/png": "[encoded data removed]",
      "text/plain": [
       "<Figure size 640x480 with 1 Axes>"
      ]
     },
     "metadata": {},
     "output_type": "display_data"
    }
   ],
   "source": [
    "d = 10\n",
    "theta_z = 5  # Rotation angle in degrees around z-axis\n",
    "dx = d/(np.sin(np.radians(theta_z))+0.01)\n",
    "# dx = d\n",
    "vector = np.array([10000, 0])\n",
    "rotated_vector = rotate_vector_z(vector, theta_z)\n",
    "rotated_vector = [[0,0],list(rotated_vector)]\n",
    "vector_list = []\n",
    "for i in range(-20,20):\n",
    "    vector_list.append([[rotated_vector[0][0]+i*dx,rotated_vector[0][1]],[rotated_vector[1][0]+dx*i,rotated_vector[1][1]]])\n",
    "\n",
    "\n",
    "\n",
    "swaths = []\n",
    "swaths_clipped = []\n",
    "for i in range(len(vector_list)):\n",
    "    swaths.append(gpd.GeoSeries(LineString(vector_list[i])))\n",
    "    swaths_clipped.append(gpd.clip(swaths[i],field_with_headlands))\n",
    "\n",
    "fig, ax = plt.subplots()\n",
    "field.plot(ax = ax, color = 'green')\n",
    "field_with_headlands.boundary.plot(ax = ax,color = 'red')\n",
    "total_swath_length = 0\n",
    "for i in range(len(swaths_clipped)):\n",
    "    if not swaths_clipped[i].get_coordinates().empty: # This line is to make sure we don't calculate the length for vectors that are completely outside of the boundaries\n",
    "        swaths_clipped[i].plot(ax = ax)\n",
    "        total_swath_length+=swaths_clipped[i][0].length\n",
    "print('Theta: {:6f}, total_length: {:6f}'.format(theta_z,total_swath_length))\n",
    "\n",
    "plt.show()"
   ]
  },
  {
   "cell_type": "code",
   "execution_count": 69,
   "metadata": {},
   "outputs": [
    {
     "data": {
      "text/plain": [
       "10.15426611885745"
      ]
     },
     "execution_count": 69,
     "metadata": {},
     "output_type": "execute_result"
    }
   ],
   "source": [
    "10/np.sin(np.radians(10))"
   ]
  }
 ],
 "metadata": {
  "kernelspec": {
   "display_name": "5ARIP10",
   "language": "python",
   "name": "python3"
  },
  "language_info": {
   "codemirror_mode": {
    "name": "ipython",
    "version": 3
   },
   "file_extension": ".py",
   "mimetype": "text/x-python",
   "name": "python",
   "nbconvert_exporter": "python",
   "pygments_lexer": "ipython3",
   "version": "3.12.2"
  }
 },
 "nbformat": 4,
 "nbformat_minor": 2
}
